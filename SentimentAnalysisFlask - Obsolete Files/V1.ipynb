{
 "cells": [
  {
   "cell_type": "code",
   "execution_count": 1,
   "id": "41d02bf0-d540-4d4e-8fa4-8120a2524d50",
   "metadata": {},
   "outputs": [],
   "source": [
    "#Import modules\n",
    "import pandas as pd\n",
    "import numpy as np\n",
    "from sklearn.model_selection import train_test_split"
   ]
  },
  {
   "cell_type": "code",
   "execution_count": 2,
   "id": "89810505-5c08-4051-a6c1-6a975bde8896",
   "metadata": {},
   "outputs": [
    {
     "data": {
      "text/html": [
       "<div>\n",
       "<style scoped>\n",
       "    .dataframe tbody tr th:only-of-type {\n",
       "        vertical-align: middle;\n",
       "    }\n",
       "\n",
       "    .dataframe tbody tr th {\n",
       "        vertical-align: top;\n",
       "    }\n",
       "\n",
       "    .dataframe thead th {\n",
       "        text-align: right;\n",
       "    }\n",
       "</style>\n",
       "<table border=\"1\" class=\"dataframe\">\n",
       "  <thead>\n",
       "    <tr style=\"text-align: right;\">\n",
       "      <th></th>\n",
       "      <th>clean_comment</th>\n",
       "      <th>category</th>\n",
       "    </tr>\n",
       "  </thead>\n",
       "  <tbody>\n",
       "    <tr>\n",
       "      <th>0</th>\n",
       "      <td>family mormon have never tried explain them t...</td>\n",
       "      <td>1</td>\n",
       "    </tr>\n",
       "    <tr>\n",
       "      <th>1</th>\n",
       "      <td>buddhism has very much lot compatible with chr...</td>\n",
       "      <td>1</td>\n",
       "    </tr>\n",
       "    <tr>\n",
       "      <th>2</th>\n",
       "      <td>seriously don say thing first all they won get...</td>\n",
       "      <td>-1</td>\n",
       "    </tr>\n",
       "    <tr>\n",
       "      <th>3</th>\n",
       "      <td>what you have learned yours and only yours wha...</td>\n",
       "      <td>0</td>\n",
       "    </tr>\n",
       "    <tr>\n",
       "      <th>4</th>\n",
       "      <td>for your own benefit you may want read living ...</td>\n",
       "      <td>1</td>\n",
       "    </tr>\n",
       "  </tbody>\n",
       "</table>\n",
       "</div>"
      ],
      "text/plain": [
       "                                       clean_comment  category\n",
       "0   family mormon have never tried explain them t...         1\n",
       "1  buddhism has very much lot compatible with chr...         1\n",
       "2  seriously don say thing first all they won get...        -1\n",
       "3  what you have learned yours and only yours wha...         0\n",
       "4  for your own benefit you may want read living ...         1"
      ]
     },
     "execution_count": 2,
     "metadata": {},
     "output_type": "execute_result"
    }
   ],
   "source": [
    "#Check data\n",
    "df = pd.read_csv(\"Reddit_Data.csv\")\n",
    "df.head()"
   ]
  },
  {
   "cell_type": "code",
   "execution_count": 3,
   "id": "4239dda6-6824-49a2-984c-a1cd09d6198d",
   "metadata": {},
   "outputs": [
    {
     "data": {
      "text/plain": [
       "clean_comment    100\n",
       "category           0\n",
       "dtype: int64"
      ]
     },
     "execution_count": 3,
     "metadata": {},
     "output_type": "execute_result"
    }
   ],
   "source": [
    "df.isna().sum()"
   ]
  },
  {
   "cell_type": "code",
   "execution_count": 4,
   "id": "c47286a1-462a-4272-93e9-9ed4a21318b6",
   "metadata": {},
   "outputs": [],
   "source": [
    "#Drop nan values\n",
    "df = df.dropna()"
   ]
  },
  {
   "cell_type": "code",
   "execution_count": 5,
   "id": "cd1b68bc-d700-4023-8f78-c2ed6d7c7ca4",
   "metadata": {},
   "outputs": [
    {
     "data": {
      "text/plain": [
       "clean_comment    0\n",
       "category         0\n",
       "dtype: int64"
      ]
     },
     "execution_count": 5,
     "metadata": {},
     "output_type": "execute_result"
    }
   ],
   "source": [
    "df.isna().sum()"
   ]
  },
  {
   "cell_type": "code",
   "execution_count": 6,
   "id": "eb5f3f06-b1d0-4ef4-bfc0-c83ad244dd92",
   "metadata": {},
   "outputs": [
    {
     "data": {
      "text/plain": [
       "category\n",
       " 1    15830\n",
       " 0    13042\n",
       "-1     8277\n",
       "Name: count, dtype: int64"
      ]
     },
     "execution_count": 6,
     "metadata": {},
     "output_type": "execute_result"
    }
   ],
   "source": [
    "df['category'].value_counts()"
   ]
  },
  {
   "cell_type": "code",
   "execution_count": 7,
   "id": "f7b4e5e7-fe24-4eaf-b94a-58e37aee5403",
   "metadata": {},
   "outputs": [],
   "source": [
    "#Split into train and test\n",
    "train = df['clean_comment']\n",
    "test = df['category']  "
   ]
  },
  {
   "cell_type": "code",
   "execution_count": 8,
   "id": "7f279069-bc5c-47e3-a1b6-aac8389d131c",
   "metadata": {},
   "outputs": [],
   "source": [
    "#Let's generate Weak Labels with the help of Labelling Functions\n",
    "from snorkel.preprocess import preprocessor\n",
    "from textblob import TextBlob\n",
    "\n",
    "POSITIVE = 1\n",
    "NEUTRAL = 0\n",
    "NEGATIVE = -1"
   ]
  },
  {
   "cell_type": "code",
   "execution_count": 9,
   "id": "a554121b-eef0-4315-a52e-48e0ae13cd4e",
   "metadata": {},
   "outputs": [],
   "source": [
    "def polarity_score(df):\n",
    "    scores = []\n",
    "    for comment in df:\n",
    "        # print(comment)\n",
    "        score = TextBlob(comment).sentiment.polarity\n",
    "        # score = TextBlob(x['clean_comment']).sentiment.polarity\n",
    "        if score >= 0.5:\n",
    "            scores.append(POSITIVE)\n",
    "        elif score >=0 and score < 0.50:\n",
    "            scores.append(NEUTRAL)\n",
    "        else:\n",
    "            scores.append(NEGATIVE)\n",
    "    return scores"
   ]
  },
  {
   "cell_type": "code",
   "execution_count": 10,
   "id": "ac04c5c2-8912-4c5b-a038-45bb83af5dc2",
   "metadata": {},
   "outputs": [],
   "source": [
    "train_label_pred = polarity_score(train)"
   ]
  },
  {
   "cell_type": "code",
   "execution_count": 12,
   "id": "9d95b249-6c77-40e5-8f6b-82341ef6f3c5",
   "metadata": {},
   "outputs": [
    {
     "data": {
      "text/plain": [
       "Counter({0: 25994, -1: 8277, 1: 2878})"
      ]
     },
     "execution_count": 12,
     "metadata": {},
     "output_type": "execute_result"
    }
   ],
   "source": [
    "from collections import Counter\n",
    "Counter(train_label_pred)"
   ]
  },
  {
   "cell_type": "code",
   "execution_count": 13,
   "id": "cce00817-3b66-4573-9077-582cda3616c9",
   "metadata": {},
   "outputs": [
    {
     "data": {
      "text/plain": [
       "category\n",
       " 1    15830\n",
       " 0    13042\n",
       "-1     8277\n",
       "Name: count, dtype: int64"
      ]
     },
     "execution_count": 13,
     "metadata": {},
     "output_type": "execute_result"
    }
   ],
   "source": [
    "df['category'].value_counts()\n",
    "#Negative has been classified perfectly, but there is some error in classifying 0 and 1."
   ]
  },
  {
   "cell_type": "code",
   "execution_count": 14,
   "id": "75372b36-4b21-43e7-bfec-726eefebb214",
   "metadata": {},
   "outputs": [],
   "source": [
    "#Didnt work.\n",
    "# @preprocessor(memoize=True)\n",
    "# def textblob_sentiment(x):\n",
    "#     scores = TextBlob(x.text)\n",
    "#     x.polarity = scores.sentiment.polarity #Polarity == sentiment, +1 is positive, -1 is negative, 0 is a neutral sentiment.\n",
    "#     return x\n",
    "\n",
    "# @labeling_function(pre=[textblob_sentiment])\n",
    "# def textblob_polarity(x):\n",
    "#     if x.polarity >= 0.75:\n",
    "#         return POSITIVE\n",
    "#     elif x.polarity >=0 and x.polarity < 0.75:\n",
    "#         return NEUTRAL\n",
    "#     else:\n",
    "#         return NEGATIVE\n",
    "\n",
    "# lfs = [textblob_polarity]"
   ]
  },
  {
   "cell_type": "code",
   "execution_count": 15,
   "id": "6cb11c01-40b8-4d1d-9402-7fa2f6a21ba3",
   "metadata": {},
   "outputs": [
    {
     "data": {
      "text/plain": [
       "pandas.core.frame.DataFrame"
      ]
     },
     "execution_count": 15,
     "metadata": {},
     "output_type": "execute_result"
    }
   ],
   "source": [
    "#Convert the X_train from Series -> Dataframe\n",
    "train_df = train.to_frame()\n",
    "type(train_df)"
   ]
  },
  {
   "cell_type": "code",
   "execution_count": 16,
   "id": "9ee08347-cfd8-41cc-9a51-243d5080985b",
   "metadata": {},
   "outputs": [],
   "source": [
    "#DID NOT WORK - so applied manually. \n",
    "# Apply the LFS in the train dataset (without labels = y_train)\n",
    "# applier = PandasLFApplier(lfs=lfs)\n",
    "# L_train = applier.apply(df=X_train)"
   ]
  },
  {
   "cell_type": "code",
   "execution_count": 17,
   "id": "76c4a856-a309-40cf-b914-5f9373dd8979",
   "metadata": {},
   "outputs": [],
   "source": [
    "#Compare X_train_label_pred with y_train"
   ]
  },
  {
   "cell_type": "code",
   "execution_count": 20,
   "id": "9cd61f2b-e2bd-48b0-96dd-988001a35c16",
   "metadata": {},
   "outputs": [
    {
     "data": {
      "text/html": [
       "<div>\n",
       "<style scoped>\n",
       "    .dataframe tbody tr th:only-of-type {\n",
       "        vertical-align: middle;\n",
       "    }\n",
       "\n",
       "    .dataframe tbody tr th {\n",
       "        vertical-align: top;\n",
       "    }\n",
       "\n",
       "    .dataframe thead th {\n",
       "        text-align: right;\n",
       "    }\n",
       "</style>\n",
       "<table border=\"1\" class=\"dataframe\">\n",
       "  <thead>\n",
       "    <tr style=\"text-align: right;\">\n",
       "      <th>col_0</th>\n",
       "      <th>-1</th>\n",
       "      <th>0</th>\n",
       "      <th>1</th>\n",
       "    </tr>\n",
       "    <tr>\n",
       "      <th>category</th>\n",
       "      <th></th>\n",
       "      <th></th>\n",
       "      <th></th>\n",
       "    </tr>\n",
       "  </thead>\n",
       "  <tbody>\n",
       "    <tr>\n",
       "      <th>-1</th>\n",
       "      <td>8277</td>\n",
       "      <td>0</td>\n",
       "      <td>0</td>\n",
       "    </tr>\n",
       "    <tr>\n",
       "      <th>0</th>\n",
       "      <td>0</td>\n",
       "      <td>13042</td>\n",
       "      <td>0</td>\n",
       "    </tr>\n",
       "    <tr>\n",
       "      <th>1</th>\n",
       "      <td>0</td>\n",
       "      <td>12952</td>\n",
       "      <td>2878</td>\n",
       "    </tr>\n",
       "  </tbody>\n",
       "</table>\n",
       "</div>"
      ],
      "text/plain": [
       "col_0       -1      0     1\n",
       "category                   \n",
       "-1        8277      0     0\n",
       " 0           0  13042     0\n",
       " 1           0  12952  2878"
      ]
     },
     "execution_count": 20,
     "metadata": {},
     "output_type": "execute_result"
    }
   ],
   "source": [
    "df_confusion = pd.crosstab(test, train_label_pred)\n",
    "df_confusion\n",
    "#11680 comments that were acutally positive were classified as neutral"
   ]
  },
  {
   "cell_type": "code",
   "execution_count": 21,
   "id": "abbde5f6-5655-4f48-86fa-2b82de4dd615",
   "metadata": {},
   "outputs": [],
   "source": [
    "#Training a model for this (SVM since there is a heavy imbalance per class)\n",
    "#To replicate having no label column in the dataset initially (and we only used TextBlob to get it), I will remove the original and replace \n",
    "#with TextBlob results"
   ]
  },
  {
   "cell_type": "code",
   "execution_count": 22,
   "id": "0d9987bf-6ce1-49e6-bb7e-283f117caa34",
   "metadata": {},
   "outputs": [],
   "source": [
    "df = df.drop('category', axis=1)"
   ]
  },
  {
   "cell_type": "code",
   "execution_count": 24,
   "id": "79443754-8ce8-4049-a8bf-42109ff81568",
   "metadata": {},
   "outputs": [],
   "source": [
    "df['sentiment'] = train_label_pred"
   ]
  },
  {
   "cell_type": "code",
   "execution_count": 25,
   "id": "630a1c1e-7f49-4b8f-95d4-67a765cb4462",
   "metadata": {
    "scrolled": true
   },
   "outputs": [
    {
     "data": {
      "text/html": [
       "<div>\n",
       "<style scoped>\n",
       "    .dataframe tbody tr th:only-of-type {\n",
       "        vertical-align: middle;\n",
       "    }\n",
       "\n",
       "    .dataframe tbody tr th {\n",
       "        vertical-align: top;\n",
       "    }\n",
       "\n",
       "    .dataframe thead th {\n",
       "        text-align: right;\n",
       "    }\n",
       "</style>\n",
       "<table border=\"1\" class=\"dataframe\">\n",
       "  <thead>\n",
       "    <tr style=\"text-align: right;\">\n",
       "      <th></th>\n",
       "      <th>clean_comment</th>\n",
       "      <th>sentiment</th>\n",
       "    </tr>\n",
       "  </thead>\n",
       "  <tbody>\n",
       "    <tr>\n",
       "      <th>0</th>\n",
       "      <td>family mormon have never tried explain them t...</td>\n",
       "      <td>0</td>\n",
       "    </tr>\n",
       "    <tr>\n",
       "      <th>1</th>\n",
       "      <td>buddhism has very much lot compatible with chr...</td>\n",
       "      <td>0</td>\n",
       "    </tr>\n",
       "    <tr>\n",
       "      <th>2</th>\n",
       "      <td>seriously don say thing first all they won get...</td>\n",
       "      <td>-1</td>\n",
       "    </tr>\n",
       "    <tr>\n",
       "      <th>3</th>\n",
       "      <td>what you have learned yours and only yours wha...</td>\n",
       "      <td>0</td>\n",
       "    </tr>\n",
       "    <tr>\n",
       "      <th>4</th>\n",
       "      <td>for your own benefit you may want read living ...</td>\n",
       "      <td>0</td>\n",
       "    </tr>\n",
       "  </tbody>\n",
       "</table>\n",
       "</div>"
      ],
      "text/plain": [
       "                                       clean_comment  sentiment\n",
       "0   family mormon have never tried explain them t...          0\n",
       "1  buddhism has very much lot compatible with chr...          0\n",
       "2  seriously don say thing first all they won get...         -1\n",
       "3  what you have learned yours and only yours wha...          0\n",
       "4  for your own benefit you may want read living ...          0"
      ]
     },
     "execution_count": 25,
     "metadata": {},
     "output_type": "execute_result"
    }
   ],
   "source": [
    "df.head()"
   ]
  },
  {
   "cell_type": "code",
   "execution_count": 26,
   "id": "8173ab7b-fa6c-4a1a-bd80-68ca01277efb",
   "metadata": {},
   "outputs": [],
   "source": [
    "X = df['clean_comment']\n",
    "y = df['sentiment']"
   ]
  },
  {
   "cell_type": "code",
   "execution_count": 28,
   "id": "6893b0a6-6322-437f-8ae2-8eca371f5c9f",
   "metadata": {},
   "outputs": [],
   "source": [
    "#Build simple SVM model\n",
    "from sklearn.feature_extraction.text import CountVectorizer\n",
    "from sklearn.linear_model import SGDClassifier\n",
    "from sklearn.calibration import CalibratedClassifierCV\n",
    "\n",
    "vectorizer = CountVectorizer(analyzer='word')\n",
    "comments = vectorizer.fit_transform(X)\n",
    "\n",
    "lsvm = SGDClassifier(alpha=0.001, random_state=5, tol=None)\n",
    "lsvm_calibrated = CalibratedClassifierCV(lsvm)"
   ]
  },
  {
   "cell_type": "code",
   "execution_count": 29,
   "id": "e7c060d8-7c61-47c5-93a8-a49ac7648a2c",
   "metadata": {},
   "outputs": [
    {
     "data": {
      "text/html": [
       "<style>#sk-container-id-1 {color: black;}#sk-container-id-1 pre{padding: 0;}#sk-container-id-1 div.sk-toggleable {background-color: white;}#sk-container-id-1 label.sk-toggleable__label {cursor: pointer;display: block;width: 100%;margin-bottom: 0;padding: 0.3em;box-sizing: border-box;text-align: center;}#sk-container-id-1 label.sk-toggleable__label-arrow:before {content: \"▸\";float: left;margin-right: 0.25em;color: #696969;}#sk-container-id-1 label.sk-toggleable__label-arrow:hover:before {color: black;}#sk-container-id-1 div.sk-estimator:hover label.sk-toggleable__label-arrow:before {color: black;}#sk-container-id-1 div.sk-toggleable__content {max-height: 0;max-width: 0;overflow: hidden;text-align: left;background-color: #f0f8ff;}#sk-container-id-1 div.sk-toggleable__content pre {margin: 0.2em;color: black;border-radius: 0.25em;background-color: #f0f8ff;}#sk-container-id-1 input.sk-toggleable__control:checked~div.sk-toggleable__content {max-height: 200px;max-width: 100%;overflow: auto;}#sk-container-id-1 input.sk-toggleable__control:checked~label.sk-toggleable__label-arrow:before {content: \"▾\";}#sk-container-id-1 div.sk-estimator input.sk-toggleable__control:checked~label.sk-toggleable__label {background-color: #d4ebff;}#sk-container-id-1 div.sk-label input.sk-toggleable__control:checked~label.sk-toggleable__label {background-color: #d4ebff;}#sk-container-id-1 input.sk-hidden--visually {border: 0;clip: rect(1px 1px 1px 1px);clip: rect(1px, 1px, 1px, 1px);height: 1px;margin: -1px;overflow: hidden;padding: 0;position: absolute;width: 1px;}#sk-container-id-1 div.sk-estimator {font-family: monospace;background-color: #f0f8ff;border: 1px dotted black;border-radius: 0.25em;box-sizing: border-box;margin-bottom: 0.5em;}#sk-container-id-1 div.sk-estimator:hover {background-color: #d4ebff;}#sk-container-id-1 div.sk-parallel-item::after {content: \"\";width: 100%;border-bottom: 1px solid gray;flex-grow: 1;}#sk-container-id-1 div.sk-label:hover label.sk-toggleable__label {background-color: #d4ebff;}#sk-container-id-1 div.sk-serial::before {content: \"\";position: absolute;border-left: 1px solid gray;box-sizing: border-box;top: 0;bottom: 0;left: 50%;z-index: 0;}#sk-container-id-1 div.sk-serial {display: flex;flex-direction: column;align-items: center;background-color: white;padding-right: 0.2em;padding-left: 0.2em;position: relative;}#sk-container-id-1 div.sk-item {position: relative;z-index: 1;}#sk-container-id-1 div.sk-parallel {display: flex;align-items: stretch;justify-content: center;background-color: white;position: relative;}#sk-container-id-1 div.sk-item::before, #sk-container-id-1 div.sk-parallel-item::before {content: \"\";position: absolute;border-left: 1px solid gray;box-sizing: border-box;top: 0;bottom: 0;left: 50%;z-index: -1;}#sk-container-id-1 div.sk-parallel-item {display: flex;flex-direction: column;z-index: 1;position: relative;background-color: white;}#sk-container-id-1 div.sk-parallel-item:first-child::after {align-self: flex-end;width: 50%;}#sk-container-id-1 div.sk-parallel-item:last-child::after {align-self: flex-start;width: 50%;}#sk-container-id-1 div.sk-parallel-item:only-child::after {width: 0;}#sk-container-id-1 div.sk-dashed-wrapped {border: 1px dashed gray;margin: 0 0.4em 0.5em 0.4em;box-sizing: border-box;padding-bottom: 0.4em;background-color: white;}#sk-container-id-1 div.sk-label label {font-family: monospace;font-weight: bold;display: inline-block;line-height: 1.2em;}#sk-container-id-1 div.sk-label-container {text-align: center;}#sk-container-id-1 div.sk-container {/* jupyter's `normalize.less` sets `[hidden] { display: none; }` but bootstrap.min.css set `[hidden] { display: none !important; }` so we also need the `!important` here to be able to override the default hidden behavior on the sphinx rendered scikit-learn.org. See: https://github.com/scikit-learn/scikit-learn/issues/21755 */display: inline-block !important;position: relative;}#sk-container-id-1 div.sk-text-repr-fallback {display: none;}</style><div id=\"sk-container-id-1\" class=\"sk-top-container\"><div class=\"sk-text-repr-fallback\"><pre>CalibratedClassifierCV(estimator=SGDClassifier(alpha=0.001, random_state=5,\n",
       "                                               tol=None))</pre><b>In a Jupyter environment, please rerun this cell to show the HTML representation or trust the notebook. <br />On GitHub, the HTML representation is unable to render, please try loading this page with nbviewer.org.</b></div><div class=\"sk-container\" hidden><div class=\"sk-item sk-dashed-wrapped\"><div class=\"sk-label-container\"><div class=\"sk-label sk-toggleable\"><input class=\"sk-toggleable__control sk-hidden--visually\" id=\"sk-estimator-id-1\" type=\"checkbox\" ><label for=\"sk-estimator-id-1\" class=\"sk-toggleable__label sk-toggleable__label-arrow\">CalibratedClassifierCV</label><div class=\"sk-toggleable__content\"><pre>CalibratedClassifierCV(estimator=SGDClassifier(alpha=0.001, random_state=5,\n",
       "                                               tol=None))</pre></div></div></div><div class=\"sk-parallel\"><div class=\"sk-parallel-item\"><div class=\"sk-item\"><div class=\"sk-label-container\"><div class=\"sk-label sk-toggleable\"><input class=\"sk-toggleable__control sk-hidden--visually\" id=\"sk-estimator-id-2\" type=\"checkbox\" ><label for=\"sk-estimator-id-2\" class=\"sk-toggleable__label sk-toggleable__label-arrow\">estimator: SGDClassifier</label><div class=\"sk-toggleable__content\"><pre>SGDClassifier(alpha=0.001, random_state=5, tol=None)</pre></div></div></div><div class=\"sk-serial\"><div class=\"sk-item\"><div class=\"sk-estimator sk-toggleable\"><input class=\"sk-toggleable__control sk-hidden--visually\" id=\"sk-estimator-id-3\" type=\"checkbox\" ><label for=\"sk-estimator-id-3\" class=\"sk-toggleable__label sk-toggleable__label-arrow\">SGDClassifier</label><div class=\"sk-toggleable__content\"><pre>SGDClassifier(alpha=0.001, random_state=5, tol=None)</pre></div></div></div></div></div></div></div></div></div></div>"
      ],
      "text/plain": [
       "CalibratedClassifierCV(estimator=SGDClassifier(alpha=0.001, random_state=5,\n",
       "                                               tol=None))"
      ]
     },
     "execution_count": 29,
     "metadata": {},
     "output_type": "execute_result"
    }
   ],
   "source": [
    "lsvm_calibrated.fit(comments, y)"
   ]
  },
  {
   "cell_type": "code",
   "execution_count": 32,
   "id": "dce44e27-bebe-491a-8a68-8e39fa00164c",
   "metadata": {},
   "outputs": [],
   "source": [
    "import pickle\n",
    "# # save the model\n",
    "# with open(\"SVMModel\", 'wb') as fout:\n",
    "#     pickle.dump((lsvm_calibrated, vectorizer), fout)"
   ]
  },
  {
   "cell_type": "code",
   "execution_count": 33,
   "id": "2bed14a5-e6a2-4b09-b23b-3ac93928caf8",
   "metadata": {},
   "outputs": [],
   "source": [
    "#load model\n",
    "with open('SVMModel', 'rb') as f:\n",
    "    svm_model, vectorizer = pickle.load(f)"
   ]
  },
  {
   "cell_type": "code",
   "execution_count": 38,
   "id": "492219f5-4b72-4b70-9095-da4d03af16ed",
   "metadata": {},
   "outputs": [],
   "source": [
    "messageCV = vectorizer.transform([\"I LOVE HAPPY DOGS THAT KISS ME\"])\n",
    "pred = svm_model.predict_proba(messageCV)"
   ]
  },
  {
   "cell_type": "code",
   "execution_count": 40,
   "id": "d91edb89-4488-489f-9a0c-6396814e2cca",
   "metadata": {},
   "outputs": [
    {
     "data": {
      "text/plain": [
       "array([[0.02610456, 0.46377403, 0.51012142]])"
      ]
     },
     "execution_count": 40,
     "metadata": {},
     "output_type": "execute_result"
    }
   ],
   "source": [
    "#Order of pred results = -1, 0, 1\n",
    "pred"
   ]
  },
  {
   "cell_type": "code",
   "execution_count": null,
   "id": "bb85ff64-0710-4176-8aec-b65c93b937e7",
   "metadata": {},
   "outputs": [],
   "source": []
  }
 ],
 "metadata": {
  "kernelspec": {
   "display_name": "Python 3 (ipykernel)",
   "language": "python",
   "name": "python3"
  },
  "language_info": {
   "codemirror_mode": {
    "name": "ipython",
    "version": 3
   },
   "file_extension": ".py",
   "mimetype": "text/x-python",
   "name": "python",
   "nbconvert_exporter": "python",
   "pygments_lexer": "ipython3",
   "version": "3.9.17"
  }
 },
 "nbformat": 4,
 "nbformat_minor": 5
}
